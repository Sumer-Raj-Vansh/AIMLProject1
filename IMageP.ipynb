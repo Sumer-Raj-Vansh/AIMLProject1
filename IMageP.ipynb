{
  "nbformat": 4,
  "nbformat_minor": 0,
  "metadata": {
    "colab": {
      "provenance": [],
      "authorship_tag": "ABX9TyP68cn+2+pZZrii0litizIb",
      "include_colab_link": true
    },
    "kernelspec": {
      "name": "python3",
      "display_name": "Python 3"
    },
    "language_info": {
      "name": "python"
    }
  },
  "cells": [
    {
      "cell_type": "markdown",
      "metadata": {
        "id": "view-in-github",
        "colab_type": "text"
      },
      "source": [
        "<a href=\"https://colab.research.google.com/github/Sumer-Raj-Vansh/AIMLProject1/blob/main/IMageP.ipynb\" target=\"_parent\"><img src=\"https://colab.research.google.com/assets/colab-badge.svg\" alt=\"Open In Colab\"/></a>"
      ]
    },
    {
      "cell_type": "markdown",
      "source": [
        "Image Processing using Numpy\n",
        "Numpy:\n",
        "\n",
        "NumPy is a Python library used for working with arrays.\n",
        "It also has functions for working in domain of linear algebra, fourier transform, and matrices.\n",
        "NumPy was created in 2005 by Travis Oliphant. It is an open source project and you can use it freely.\n",
        "NumPy stands for Numerical Python.\n",
        "Skimage:\n",
        "\n",
        "Scikit-image, or skimage, is an open source Python package designed for image preprocessing.\n",
        "If you have previously worked with sklearn, getting started with skimage will be a piece of cake.\n",
        "Even if you are completely new to Python, skimage is fairly easy to learn and use.\n",
        "What I really like about skimage is that it has a well-structured documentation that lists down all the modules, sub-modules and functions provided within skimage. Here is the list of all the sub-modules and functions within the skimage package\n",
        "# New Section"
      ],
      "metadata": {
        "id": "2gB8XncqdW7V"
      }
    },
    {
      "cell_type": "code",
      "source": [
        "import numpy as np\n",
        "from numpy import asarray\n",
        "from skimage import io\n",
        "from skimage import color\n",
        "import matplotlib.pyplot as plt\n",
        "from PIL import Image\n",
        "\n",
        "\n",
        "image=io.imread(input(\"Enter image name: \\n\"))\n",
        "\n",
        "print(\"Image Type\",type(image),'\\t Image Shape: ', image.shape)\n",
        "\n",
        "print('''Enter the Option:\n",
        "            1. Load Image\n",
        "            2. Edit Image\n",
        "            3.  Quit Image\n",
        "        ''')\n",
        "\n",
        "flag1=True\n",
        "while(flag1):\n",
        "    option1=int(input(\"Choice (1/2/3): \"))\n",
        "    if option1==1:\n",
        "        print(\"****Show Image****\\n\")\n",
        "        plt.imshow(image)\n",
        "        plt.show()\n",
        "    elif option1==2:\n",
        "        print(\"****Edit Image****\\n\")\n",
        "        flag2=True\n",
        "        print('''Enter the Option:\n",
        "                    1. Horizontal Flip\n",
        "                    2. Vertical Flip\n",
        "                    3. Invert Colors\n",
        "                    4. Convert to Grayscale\n",
        "                    5. Quit\n",
        "                ''')\n",
        "        while(flag2):\n",
        "            option2=int(input(\"Choice (1/2/3/4/5): \"))\n",
        "            if option2==1:\n",
        "                print(\"****Horizontal Flip****\\n\")           #Horizontal Flip\n",
        "                np_image_flipped=image[:,::-1]       \n",
        "                plt.imshow(np_image_flipped)\n",
        "                plt.show()\n",
        "            elif option2==2:\n",
        "                print(\"****Vertical Flip****\\n\")             #Vertical Flip\n",
        "                copy1=Image.fromarray(np.flipud(image))\n",
        "                plt.imshow(copy1)\n",
        "                plt.show()\n",
        "            elif option2==3:\n",
        "                np_image=np.invert(image)                     #Invert\n",
        "                plt.imshow(np_image)\n",
        "                plt.show()\n",
        "            elif option2==4:\n",
        "                print(\"****Convert to Grayscale****\\n\")       #Grayscale and Balck&White\n",
        "                imgGray=color.rgb2gray(image)\n",
        "                io.imshow(imgGray)\n",
        "                plt.show()\n",
        "            elif option2==5:\n",
        "                print(\"****Quit Editing****\\n\")\n",
        "                break\n",
        "            else:\n",
        "                print(\"Wrong Choice! Choice (1/2/3/4/5): \")\n",
        "    elif option1==3:\n",
        "        print(\"****Quit****\\n\")\n",
        "        break\n",
        "    else:\n",
        "        print(\"Wrong Choice! Choice (1/2/3): \")\n"
      ],
      "metadata": {
        "id": "3ciR0YxudZWi"
      },
      "execution_count": null,
      "outputs": []
    },
    {
      "cell_type": "code",
      "source": [],
      "metadata": {
        "id": "M3_OJxpqdthz"
      },
      "execution_count": null,
      "outputs": []
    }
  ]
}