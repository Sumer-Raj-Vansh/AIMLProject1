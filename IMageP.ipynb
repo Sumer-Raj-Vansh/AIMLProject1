{
  "nbformat": 4,
  "nbformat_minor": 0,
  "metadata": {
    "colab": {
      "provenance": [],
      "authorship_tag": "ABX9TyMixp9fDTKJ7KhNocJT/9LO",
      "include_colab_link": true
    },
    "kernelspec": {
      "name": "python3",
      "display_name": "Python 3"
    },
    "language_info": {
      "name": "python"
    }
  },
  "cells": [
    {
      "cell_type": "markdown",
      "metadata": {
        "id": "view-in-github",
        "colab_type": "text"
      },
      "source": [
        "<a href=\"https://colab.research.google.com/github/Sumer-Raj-Vansh/AIMLProject1/blob/main/IMageP.ipynb\" target=\"_parent\"><img src=\"https://colab.research.google.com/assets/colab-badge.svg\" alt=\"Open In Colab\"/></a>"
      ]
    },
    {
      "cell_type": "code",
      "execution_count": 2,
      "metadata": {
        "colab": {
          "base_uri": "https://localhost:8080/",
          "height": 130
        },
        "id": "m0mlXol6bkab",
        "outputId": "d68c061c-e2b0-48c6-a073-3e169a713eab"
      },
      "outputs": [
        {
          "output_type": "error",
          "ename": "IndentationError",
          "evalue": "ignored",
          "traceback": [
            "\u001b[0;36m  File \u001b[0;32m\"<tokenize>\"\u001b[0;36m, line \u001b[0;32m62\u001b[0m\n\u001b[0;31m    elif option1==3:\u001b[0m\n\u001b[0m    ^\u001b[0m\n\u001b[0;31mIndentationError\u001b[0m\u001b[0;31m:\u001b[0m unindent does not match any outer indentation level\n"
          ]
        }
      ],
      "source": [
        "Image Processing using Numpy\n",
        "Numpy:\n",
        "\n",
        "NumPy is a Python library used for working with arrays.\n",
        "It also has functions for working in domain of linear algebra, fourier transform, and matrices.\n",
        "NumPy was created in 2005 by Travis Oliphant. It is an open source project and you can use it freely.\n",
        "NumPy stands for Numerical Python.\n",
        "Skimage:\n",
        "\n",
        "Scikit-image, or skimage, is an open source Python package designed for image preprocessing.\n",
        "If you have previously worked with sklearn, getting started with skimage will be a piece of cake.\n",
        "Even if you are completely new to Python, skimage is fairly easy to learn and use.\n",
        "What I really like about skimage is that it has a well-structured documentation that lists down all the modules, sub-modules and functions provided within skimage. Here is the list of all the sub-modules and functions within the skimage package\n"
      ]
    },
    {
      "cell_type": "code",
      "source": [],
      "metadata": {
        "id": "WZ84iKKXbts_"
      },
      "execution_count": null,
      "outputs": []
    }
  ]
}